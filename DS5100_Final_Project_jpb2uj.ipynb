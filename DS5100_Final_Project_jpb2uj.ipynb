{
 "cells": [
  {
   "cell_type": "markdown",
   "id": "45762487-d33f-486d-8e38-2cdea04e3528",
   "metadata": {},
   "source": [
    "# Final Project Report\n",
    "\n",
    "* Class: DS 5100\n",
    "* Student Name: Jack Burke\n",
    "* Student Net ID: jpb2uj\n",
    "* This URL: https://github.com/jackburke12/ds5100_final_project/blob/4541410ff554e9b18553555d02d5a75af56878d1/DS5100_Final_Project_jpb2uj.ipynb\n"
   ]
  },
  {
   "cell_type": "markdown",
   "id": "acf756c1-ecaa-41dc-b6ca-d566eb94560b",
   "metadata": {},
   "source": [
    "# Instructions\n",
    "\n",
    "Follow the instructions in the Final Project isntructions notebook and put evidence of your work in this notebook.\n",
    "\n",
    "Total points for each subsection under **Deliverables** and **Scenarios** are given in parentheses.\n",
    "\n",
    "Breakdowns of points within subsections are specified within subsection instructions as bulleted lists.\n",
    "\n",
    "This project is worth **50 points**."
   ]
  },
  {
   "cell_type": "markdown",
   "id": "89dc7a32-f682-4402-8c1e-b6ccdb3e0e39",
   "metadata": {},
   "source": [
    "# Deliverables"
   ]
  },
  {
   "cell_type": "markdown",
   "id": "d32cb273-9a40-4909-a7ce-51f6e4958d3c",
   "metadata": {},
   "source": [
    "## The Monte Carlo Module (10)\n",
    "\n",
    "- URL included, appropriately named (1).\n",
    "- Includes all three specified classes (3).\n",
    "- Includes at least all 12 specified methods (6; .5 each)."
   ]
  },
  {
   "cell_type": "markdown",
   "id": "f5f3b070-de9e-4de9-bfae-8974d184aa28",
   "metadata": {},
   "source": [
    "Put the URL to your GitHub repo here.\n",
    "\n",
    "Repo URL: https://github.com/jackburke12/ds5100_final_project.git"
   ]
  },
  {
   "cell_type": "markdown",
   "id": "162370fb-3729-4c85-b040-8c25b2c966d2",
   "metadata": {},
   "source": [
    "Paste a copy of your module here.\n",
    "\n",
    "NOTE: Paste as text, not as code. Use triple backticks to wrap your code blocks."
   ]
  },
  {
   "cell_type": "markdown",
   "id": "a556ca88-4ca4-4b82-831c-4334a8ce9cb4",
   "metadata": {
    "vscode": {
     "languageId": "plaintext"
    }
   },
   "source": [
    "```\n",
    "import numpy as np\n",
    "import pandas as pd\n",
    "\n",
    "class Die:\n",
    "    '''\n",
    "    A class to create a die with customizable faces and weights. This die can be rolled, and each face has a weight \n",
    "    that affects the likelihood of it appearing in a roll. Faces can be strings or numbers, and weights can be positive \n",
    "    numbers, including zero. Weights default to 1 if not specified.\n",
    "    '''\n",
    "    def __init__(self, faces):\n",
    "        '''\n",
    "        PURPOSE: Create a die object with any number of faces.\n",
    "        INPUTS: \n",
    "        faces: numpy array containing strings or numpy array containing numbers\n",
    "\n",
    "        OUTPUTS:\n",
    "        face_weights: dataframe containing the weight for each face on the die.\n",
    "\n",
    "        RETURNS:\n",
    "        none\n",
    "        '''\n",
    "        if not isinstance(faces, np.ndarray):\n",
    "            raise TypeError(\"Expected a numpy array for 'faces', but received something else.\")\n",
    "        if not (np.issubdtype(faces.dtype, np.str_) or np.issubdtype(faces.dtype, np.number)):\n",
    "            raise TypeError(\"The faces array must contain all strings or all integers. Your array is of type \"+str(faces.dtype))\n",
    "        if len(faces) != len(np.unique(faces)):\n",
    "            raise ValueError(\"All faces must be unique.\")\n",
    "        \n",
    "        self.face_weights = pd.DataFrame({'faces': faces, 'weights': 1.0})\n",
    "        self.face_weights.set_index('faces', inplace=True)\n",
    "\n",
    "    def change_face_weight(self, face, weight):\n",
    "        '''\n",
    "        PURPOSE: Customize the weights of the faces on an existing die object.\n",
    "\n",
    "        INPUTS: \n",
    "        face: string or int. Will raise IndexError if the face provided is not present in the die's index of faces.\n",
    "        weight: float or int. Must be positive.\n",
    "\n",
    "        OUTPUTS:\n",
    "        Changes the face_weights attribute to reflect the inputted weight.\n",
    "\n",
    "        RETURNS:\n",
    "        none\n",
    "        \n",
    "        '''\n",
    "        if face not in self.face_weights.index:\n",
    "            raise IndexError(\"The face whose weight you wish to change is not on the die. Valid faces are: \"+ str(self.face_weights.index.to_list()))\n",
    "        if not isinstance(weight, (int, float)):\n",
    "            raise TypeError(\"Only integers or floats can be used as face weights.\")\n",
    "        if weight < 0:\n",
    "            raise ValueError(\"Face weights must be positive.\")\n",
    "        self.face_weights.loc[face,'weights'] = weight\n",
    "\n",
    "    def roll_die(self, num_rolls = 1):\n",
    "        '''\n",
    "        PURPOSE: Roll the die the specified number of times and return the results of the rolls. For example, if a standard six-sided die was rolled 3 times, the output could look like this: [2,4,3].\n",
    "\n",
    "        INPUTS: \n",
    "        num_rolls: int\n",
    "\n",
    "        RETURNS:\n",
    "        rolls: list of strings or integers\n",
    "        '''\n",
    "        rolls = []\n",
    "        for i in range(num_rolls):\n",
    "            rolls.append(self.face_weights.sample(n = 1, weights = 'weights').index[0])\n",
    "        return rolls\n",
    "    \n",
    "    def show_face_weights(self):\n",
    "        '''\n",
    "        PURPOSE: Show the weights for each face on the die.\n",
    "\n",
    "        INPUTS:\n",
    "        none\n",
    "\n",
    "        RETURNS:\n",
    "        face_weights: Dataframe with 'faces' as the index and 'weights' as a column of floats\n",
    "        '''\n",
    "        return self.face_weights\n",
    "\n",
    "class Game:\n",
    "    '''Represents a game played with multiple dice. Each die is rolled simultaneously for a specified\n",
    "    number of rolls. The results are stored and can be presented in either a wide or narrow format.'''\n",
    "\n",
    "    game = pd.DataFrame()\n",
    "\n",
    "    def __init__(self, dice):\n",
    "        '''\n",
    "        PURPOSE: Create a game object with a list of dice.\n",
    "\n",
    "        INPUTS: \n",
    "        dice: list of dice objects\n",
    "\n",
    "        RETURNS: \n",
    "        none\n",
    "        '''\n",
    "        if not isinstance(dice, list):\n",
    "            raise ValueError(\"Please create a game using a list of Die objects.\")\n",
    "        if not isinstance(dice[0], Die):\n",
    "            raise ValueError(\"Your list must contain Die objects only.\")\n",
    "\n",
    "        self.dice = dice\n",
    "\n",
    "    def play(self, num_rolls = 1):\n",
    "        '''\n",
    "        PURPOSE: Simulate a game by rolling all dice simultaneously for a specified number of times.\n",
    "\n",
    "        INPUTS:\n",
    "        num_rolls: int specifying number of times to roll the dice\n",
    "\n",
    "        OUTPUTS:\n",
    "        game: attribute containing a dataframe of the last played game. The dataframe has roll number as the named index, columns for each die number, and the face rolled in that instance in each cell.\n",
    "\n",
    "        RETURNS:\n",
    "        none\n",
    "        '''\n",
    "        self.current_game = {}\n",
    "        for index, die in enumerate(self.dice):\n",
    "            self.current_game[index] = die.roll_die(num_rolls = num_rolls)\n",
    "        roll_num = range(1, num_rolls + 1)\n",
    "        self.game = pd.DataFrame(self.current_game, index = roll_num)\n",
    "\n",
    "    def show_result(self, form = 'wide'):\n",
    "        '''\n",
    "        PURPOSE: show the result of the last game played in either a 'wide' (default) or 'narrow' format as specified by the user.\n",
    "\n",
    "        INPUT:\n",
    "        form: string. Defaults to 'wide', accepts either 'narrow' or 'wide'.\n",
    "\n",
    "        RETURNS:\n",
    "        game: dataframe of the last game played in wide (default) or narrow format.\n",
    "        '''\n",
    "        if form == 'wide':\n",
    "            return self.game\n",
    "        elif form == 'narrow':\n",
    "            return self.game.stack()\n",
    "        else:\n",
    "            raise ValueError('Please specify how to return results using either \"narrow\" or \"wide\".')\n",
    "    \n",
    "class Analyzer:\n",
    "    '''\n",
    "    Used to analyze the results of a Game. It provides methods to calculate the number of jackpots,\n",
    "    count occurrences of each face, and count combinations and permutations of the game results.\n",
    "    '''\n",
    "\n",
    "    def __init__(self, game):\n",
    "        '''\n",
    "        PUPROSE: create an analyzer object from a game.\n",
    "\n",
    "        INPUTS: game object\n",
    "\n",
    "        RETURNS:\n",
    "        none        \n",
    "        '''\n",
    "        if not isinstance(game, Game):\n",
    "            raise ValueError(\"Please include a 'Game' object in your constructor.\")\n",
    "\n",
    "        self.game = game\n",
    "\n",
    "    def jackpot(self):\n",
    "        '''\n",
    "        PURPOSE: Calculate the number of 'jackpots' that occurred in the last game. A jackpot is a result in which all faces are the same, e.g. all ones for a six-sided die.\n",
    "        \n",
    "        INPUTS: none\n",
    "\n",
    "        RETURNS:\n",
    "        total number of jackpots as an integer\n",
    "        '''\n",
    "        jackpots = self.game.show_result().nunique(axis = 1)\n",
    "        return (jackpots == 1).sum()\n",
    "    \n",
    "    def face_counts(self):\n",
    "        '''\n",
    "        PURPOSE: Compute how many times a given face is rolled for each event. For example, if a roll of five dice has all sixes, then the counts for this roll would be 5 for the face value '6' and 0 for the other faces.\n",
    "\n",
    "        INPUTS: none\n",
    "\n",
    "        RETURNS:\n",
    "        counts: dataframe with roll number as the index, face values as columns, and count values in the cells\n",
    "        '''\n",
    "        counts = self.game.show_result().stack().groupby(level=0).value_counts().unstack(fill_value=0)\n",
    "        return counts\n",
    "    \n",
    "    def combination_count(self):\n",
    "        '''\n",
    "        PURPOSE: Compute the distinct combination of faces rolled along with their counts. Combinations are order-independent.\n",
    "\n",
    "        INPUTS: none\n",
    "\n",
    "        RETURNS:\n",
    "        dataframe with multiindex of distinct combinations and a column totaling each combinations' counts.\n",
    "        '''\n",
    "        combo_df = pd.DataFrame(np.sort(self.game.show_result().values, axis = 1), columns = self.game.show_result().columns)\n",
    "        return combo_df.value_counts().to_frame()\n",
    "\n",
    "    def permutation_count(self):\n",
    "        '''\n",
    "        PURPOSE: Compute the distinct permutations of faces rolled along with their counts. Permutations are order-dependent.\n",
    "\n",
    "        INPUTS: none\n",
    "\n",
    "        RETURNS:\n",
    "        dataframe with multiindex of distinct permutations and a colum totaling each permutations' counts.\n",
    "        '''\n",
    "        return self.game.show_result().value_counts().to_frame()\n",
    "```"
   ]
  },
  {
   "cell_type": "markdown",
   "id": "6377727a-8f0a-491e-9f1c-d9dc225edd35",
   "metadata": {},
   "source": [
    "## Unitest Module (2)\n",
    "\n",
    "Paste a copy of your test module below.\n",
    "\n",
    "NOTE: Paste as text, not as code. Use triple backticks to wrap your code blocks.\n",
    "\n",
    "- All methods have at least one test method (1).\n",
    "- Each method employs one of Unittest's Assert methods (1)."
   ]
  },
  {
   "cell_type": "markdown",
   "id": "63c0ad5f-b5e4-4264-9f18-02d32c01fdd7",
   "metadata": {},
   "source": [
    "```\n",
    "import unittest\n",
    "import numpy as np\n",
    "import pandas as pd\n",
    "from monte_carlo_simulator import Die \n",
    "from monte_carlo_simulator import Game\n",
    "from monte_carlo_simulator import Analyzer\n",
    "\n",
    "class MonteCarloTestSuite(unittest.TestCase):\n",
    "\n",
    "    def test_die_constructor(self):\n",
    "\n",
    "        self.assertRaises(TypeError, Die, ['one','two'])\n",
    "        self.assertRaises(TypeError, Die, np.array([True,True,False]))\n",
    "        self.assertRaises(ValueError, Die, np.array(['one','one','two']))\n",
    "        \n",
    "        die1 = Die(np.array([1,2,3,4,5,6]))\n",
    "\n",
    "        self.assertEqual(die1.face_weights.shape,(6,1))\n",
    "        self.assertIsInstance(die1.face_weights, pd.DataFrame)\n",
    "\n",
    "    def test_change_face_weight(self):\n",
    "        die1 = Die(np.array([1,2,3,4,5,6]))\n",
    "        \n",
    "        self.assertRaises(IndexError, die1.change_face_weight, 10,4.1)\n",
    "        self.assertRaises(TypeError, die1.change_face_weight, 2, 'two')\n",
    "        self.assertRaises(ValueError, die1.change_face_weight, 2,-1)\n",
    "\n",
    "        die1.change_face_weight(1,10.0)\n",
    "\n",
    "        self.assertEqual(die1.face_weights.iloc[0,0], 10.0)\n",
    "\n",
    "    def test_roll_die(self):\n",
    "        die1 = Die(np.array([1,2,3,4,5,6]))\n",
    "        \n",
    "        results = die1.roll_die(5)\n",
    "\n",
    "        self.assertTrue(len(results) == 5)\n",
    "        self.assertIn(results[4],[1,2,3,4,5,6])\n",
    "\n",
    "    def test_show_face_weights(self):\n",
    "        die1 = Die(np.array([1,2,3,4,5,6]))\n",
    "\n",
    "        self.assertEqual(die1.show_face_weights().shape,(6,1))\n",
    "        self.assertIsInstance(die1.show_face_weights(), pd.DataFrame)\n",
    "    \n",
    "    def test_game_constructor(self):\n",
    "        die1 = Die(np.array([1,2,3,4,5,6]))\n",
    "        die2 = Die(np.array(['red','blue','yellow']))\n",
    "\n",
    "        self.assertRaises(ValueError, Game, 'not a list')\n",
    "        self.assertRaises(ValueError, Game, ['something',die1])\n",
    "\n",
    "        newgame = Game([die1,die2])\n",
    "\n",
    "        self.assertIsInstance(newgame, Game)\n",
    "\n",
    "    def test_play(self):\n",
    "        die1 = Die(np.array([1,2,3,4,5,6]))\n",
    "        die2 = Die(np.array(['red','blue','yellow']))\n",
    "        newgame = Game([die1,die2])\n",
    "        newgame.play(5)\n",
    "\n",
    "        self.assertEqual(newgame.game.shape, (5,2))\n",
    "        self.assertIsInstance(newgame.game, pd.DataFrame)\n",
    "        self.assertIn(newgame.game.iloc[0,1], ['red','blue','yellow'])\n",
    "\n",
    "    def test_show_results(self):\n",
    "        die1 = Die(np.array([1,2,3,4,5,6]))\n",
    "        die2 = Die(np.array(['red','blue','yellow']))\n",
    "        newgame = Game([die1,die2])\n",
    "        newgame.play(5)\n",
    "\n",
    "        self.assertRaises(ValueError, newgame.show_result, 'either')\n",
    "\n",
    "        wide = newgame.show_result()\n",
    "        narrow = newgame.show_result('narrow')\n",
    "\n",
    "        self.assertIsInstance(wide, pd.DataFrame)\n",
    "        self.assertEqual(wide.shape, (5,2))\n",
    "        self.assertEqual(narrow.shape, (10,))\n",
    "\n",
    "    def test_analyzer_constructor(self):\n",
    "        die1 = Die(np.array([1,2,3,4,5,6]))\n",
    "        die2 = Die(np.array(['red','blue','yellow']))\n",
    "        newgame = Game([die1,die2])\n",
    "        newgame.play(5)\n",
    "\n",
    "        self.assertRaises(ValueError, Analyzer, die1)\n",
    "\n",
    "        a1 = Analyzer(newgame)\n",
    "\n",
    "        self.assertIsInstance(a1, Analyzer)\n",
    "\n",
    "    def test_jackpot(self):\n",
    "        die1 = Die(np.array([1,2,3,4,5,6]))\n",
    "        die2 = Die(np.array([1,2,3,4,5,6]))\n",
    "        newgame = Game([die1,die2])\n",
    "        newgame.play(5)\n",
    "        a1 = Analyzer(newgame)\n",
    "\n",
    "        self.assertIsInstance(a1.jackpot(), np.number)\n",
    "        self.assertLessEqual(a1.jackpot(), 5)\n",
    "\n",
    "        die3 = Die(np.array([1]))\n",
    "        newgame2 = Game([die3,die3])\n",
    "        newgame2.play(10)\n",
    "        a2 = Analyzer(newgame2)\n",
    "\n",
    "        self.assertEqual(a2.jackpot(), 10)\n",
    "\n",
    "        die4 = Die(np.array([2,3]))\n",
    "        newgame3 = Game([die3, die4])\n",
    "        newgame3.play(4)\n",
    "        a3 = Analyzer(newgame3)\n",
    "\n",
    "        self.assertEqual(a3.jackpot(), 0)\n",
    "\n",
    "    def test_face_counts(self):\n",
    "        die1 = Die(np.array([1,2,3,4,5,6]))\n",
    "        newgame = Game([die1,die1])\n",
    "        newgame.play(100)\n",
    "\n",
    "        a1 = Analyzer(newgame)\n",
    "\n",
    "        self.assertIsInstance(a1.face_counts(), pd.DataFrame)\n",
    "        self.assertEqual(a1.face_counts().shape, (100,6))\n",
    "\n",
    "    def test_combination_count(self):\n",
    "        die1 = Die(np.array([1,2,3,4,5,6]))\n",
    "        newgame = Game([die1,die1])\n",
    "        newgame.play(1000)\n",
    "\n",
    "        a1 = Analyzer(newgame)\n",
    "        combos = a1.combination_count()\n",
    "\n",
    "        self.assertIsInstance(combos, pd.DataFrame)\n",
    "        self.assertLessEqual(len(combos), 21)\n",
    "\n",
    "    def test_permutation_count(self):\n",
    "        die1 = Die(np.array([1,2,3,4,5,6]))\n",
    "        newgame = Game([die1,die1])\n",
    "        newgame.play(1000)\n",
    "\n",
    "        a1 = Analyzer(newgame)\n",
    "        permos = a1.permutation_count()\n",
    "\n",
    "        self.assertIsInstance(permos, pd.DataFrame)\n",
    "        self.assertLessEqual(len(permos), 36)\n",
    "\n",
    "if __name__ == '__main__':\n",
    "    unittest.main(verbosity=3)\n",
    "```"
   ]
  },
  {
   "cell_type": "markdown",
   "id": "3e058d03-29bc-408f-b36d-0605b4f4b8c0",
   "metadata": {
    "tags": []
   },
   "source": [
    "## Unittest Results (3)\n",
    "\n",
    "Put a copy of the results of running your tests from the command line here.\n",
    "\n",
    "Again, paste as text using triple backticks.\n",
    "\n",
    "- All 12 specified methods return OK (3; .25 each)."
   ]
  },
  {
   "cell_type": "markdown",
   "id": "706f5750-fda0-49d4-abd7-0561b21208ab",
   "metadata": {
    "tags": []
   },
   "source": [
    "```\n",
    "PS C:\\Users\\jburk\\Documents\\GitHub\\ds5100_final_project> python .\\monte_carlo_test.py\n",
    "test_analyzer_constructor (__main__.MonteCarloTestSuite.test_analyzer_constructor) ... ok\n",
    "test_change_face_weight (__main__.MonteCarloTestSuite.test_change_face_weight) ... ok\n",
    "test_combination_count (__main__.MonteCarloTestSuite.test_combination_count) ... ok\n",
    "test_die_constructor (__main__.MonteCarloTestSuite.test_die_constructor) ... ok\n",
    "test_face_counts (__main__.MonteCarloTestSuite.test_face_counts) ... ok\n",
    "test_game_constructor (__main__.MonteCarloTestSuite.test_game_constructor) ... ok\n",
    "test_jackpot (__main__.MonteCarloTestSuite.test_jackpot) ... ok\n",
    "test_permutation_count (__main__.MonteCarloTestSuite.test_permutation_count) ... ok\n",
    "test_play (__main__.MonteCarloTestSuite.test_play) ... ok\n",
    "test_roll_die (__main__.MonteCarloTestSuite.test_roll_die) ... ok\n",
    "test_show_face_weights (__main__.MonteCarloTestSuite.test_show_face_weights) ... ok\n",
    "test_show_results (__main__.MonteCarloTestSuite.test_show_results) ... ok\n",
    "\n",
    "----------------------------------------------------------------------\n",
    "Ran 12 tests in 0.775s\n",
    "\n",
    "OK\n",
    "```"
   ]
  },
  {
   "cell_type": "markdown",
   "id": "d9ffe8c5-eb2f-4ad1-af76-a46550e4c7ac",
   "metadata": {},
   "source": [
    "## Import (1)\n",
    "\n",
    "Import your module here. This import should refer to the code in your package directory.\n",
    "\n",
    "- Module successuflly imported (1)."
   ]
  },
  {
   "cell_type": "code",
   "execution_count": 2,
   "id": "a05dffb3-e6d6-4f78-9df4-5abd0cf74ca9",
   "metadata": {
    "tags": []
   },
   "outputs": [],
   "source": [
    "import monte_carlo"
   ]
  },
  {
   "cell_type": "markdown",
   "id": "f30c4842-65b1-4556-98b6-3fe1a07e1371",
   "metadata": {},
   "source": [
    "## Help Docs (4)\n",
    "\n",
    "Show your docstring documentation by applying `help()` to your imported module.\n",
    "\n",
    "- All methods have a docstring (3; .25 each).\n",
    "- All classes have a docstring (1; .33 each)."
   ]
  },
  {
   "cell_type": "code",
   "execution_count": 3,
   "id": "bf4fbf1f-9885-471c-a0a6-e9ca90e160de",
   "metadata": {
    "tags": []
   },
   "outputs": [
    {
     "name": "stdout",
     "output_type": "stream",
     "text": [
      "Help on package monte_carlo:\n",
      "\n",
      "NAME\n",
      "    monte_carlo\n",
      "\n",
      "PACKAGE CONTENTS\n",
      "    monte_carlo_simulator\n",
      "\n",
      "FILE\n",
      "    c:\\users\\jburk\\documents\\github\\ds5100_final_project\\monte_carlo\\__init__.py\n",
      "\n",
      "\n"
     ]
    }
   ],
   "source": [
    "help(monte_carlo)"
   ]
  },
  {
   "cell_type": "markdown",
   "id": "a9defa84-b395-4966-bd1c-5c6c2bb7ed68",
   "metadata": {},
   "source": [
    "## `README.md` File (3)\n",
    "\n",
    "Provide link to the README.md file of your project's repo.\n",
    "\n",
    "- Metadata section or info present (1).\n",
    "- Synopsis section showing how each class is called (1). (All must be included.)\n",
    "- API section listing all classes and methods (1). (All must be included.)"
   ]
  },
  {
   "cell_type": "markdown",
   "id": "ee090b33-d593-48a0-bf35-e739cea0942c",
   "metadata": {},
   "source": [
    "URL: https://github.com/jackburke12/ds5100_final_project/blob/3fac774f06faab2f520d03aeda2b29b790646d47/README.md"
   ]
  },
  {
   "cell_type": "markdown",
   "id": "108604c8-8827-42ef-ab59-6b25428fc0ca",
   "metadata": {},
   "source": [
    "## Successful installation (2)\n",
    "\n",
    "Put a screenshot or paste a copy of a terminal session where you successfully install your module with pip.\n",
    "\n",
    "If pasting text, use a preformatted text block to show the results.\n",
    "\n",
    "- Installed with `pip` (1).\n",
    "- Successfully installed message appears (1)."
   ]
  },
  {
   "cell_type": "raw",
   "id": "af1e858d-7ba6-4b79-b18c-894e75d2dea2",
   "metadata": {},
   "source": [
    "PS C:\\Users\\jburk\\Documents\\GitHub\\ds5100_final_project> pip install .          \n",
    "Processing c:\\users\\jburk\\documents\\github\\ds5100_final_project\n",
    "  Preparing metadata (setup.py) ... done\n",
    "Requirement already satisfied: numpy in c:\\users\\jburk\\anaconda3\\lib\\site-packages (from Monte-Carlo-Simulator==1.0.0) (1.26.4)\n",
    "Requirement already satisfied: pandas in c:\\users\\jburk\\anaconda3\\lib\\site-packages (from Monte-Carlo-Simulator==1.0.0) (2.2.2)   \n",
    "Building wheels for collected packages: Monte-Carlo-Simulator\n",
    "  Building wheel for Monte-Carlo-Simulator (setup.py) ... done\n",
    "  Created wheel for Monte-Carlo-Simulator: filename=Monte_Carlo_Simulator-1.0.0-py3-none-any.whl size=7276 sha256=d7c810d7c28a1a4c0291f34bc1b206ce1df96055715f02f1f1dcda7aeb403e4d\n",
    "  Stored in directory: C:\\Users\\jburk\\AppData\\Local\\Temp\\pip-ephem-wheel-cache-mu5h_let\\wheels\\86\\53\\c8\\f70666a0c2241adb0b45e52e08b83c64540e41c8c3c1ebd5a3\n",
    "Successfully built Monte-Carlo-Simulator\n",
    "Installing collected packages: Monte-Carlo-Simulator\n",
    "  Attempting uninstall: Monte-Carlo-Simulator\n",
    "    Found existing installation: Monte-Carlo-Simulator 1.0.0\n",
    "    Uninstalling Monte-Carlo-Simulator-1.0.0:\n",
    "      Successfully uninstalled Monte-Carlo-Simulator-1.0.0\n",
    "Successfully installed Monte-Carlo-Simulator-1.0.0\n",
    "PS C:\\Users\\jburk\\Documents\\GitHub\\ds5100_final_project> "
   ]
  },
  {
   "cell_type": "markdown",
   "id": "7c44695d-d1b3-4edf-9f94-e64d7446f199",
   "metadata": {},
   "source": [
    "# Scenarios\n",
    "\n",
    "Use code blocks to perform the tasks for each scenario.\n",
    "\n",
    "Be sure the outputs are visible before submitting."
   ]
  },
  {
   "cell_type": "markdown",
   "id": "e2479eae-6fc9-44cd-b8d7-9b22cb501f2a",
   "metadata": {
    "tags": []
   },
   "source": [
    "## Scenario 1: A 2-headed Coin (9)\n",
    "\n",
    "Task 1. Create a fair coin (with faces $H$ and $T$) and one unfair coin in which one of the faces has a weight of $5$ and the others $1$.\n",
    "\n",
    "- Fair coin created (1).\n",
    "- Unfair coin created with weight as specified (1)."
   ]
  },
  {
   "cell_type": "code",
   "execution_count": 37,
   "id": "55ce498e-c75f-4425-9e3e-b635bd6cd9e1",
   "metadata": {},
   "outputs": [],
   "source": [
    "from monte_carlo import Die, Game, Analyzer\n",
    "import numpy as np\n",
    "import pandas as pd\n",
    "\n",
    "fair_coin = Die(np.array(['H','T']))\n",
    "\n",
    "unfair_coin = Die(np.array(['H','T']))\n",
    "unfair_coin.change_face_weight('H',5)"
   ]
  },
  {
   "cell_type": "markdown",
   "id": "02b272ab-99da-4b6e-ac2a-555b73e09c07",
   "metadata": {},
   "source": [
    "Task 2. Play a game of $1000$ flips with two fair dice.\n",
    "\n",
    "- Play method called correclty and without error (1)."
   ]
  },
  {
   "cell_type": "code",
   "execution_count": 5,
   "id": "65c92601-d32d-4326-b215-74953aee27f2",
   "metadata": {},
   "outputs": [],
   "source": [
    "fair_game = Game([fair_coin,fair_coin])\n",
    "\n",
    "fair_game.play(1000)"
   ]
  },
  {
   "cell_type": "markdown",
   "id": "7d9c3dc8-22c1-4cae-81fb-d68d774a05d1",
   "metadata": {},
   "source": [
    "Task 3. Play another game (using a new Game object) of $1000$ flips, this time using two unfair dice and one fair die. For the second unfair die, you can use the same die object twice in the list of dice you pass to the Game object.\n",
    "\n",
    "- New game object created (1).\n",
    "- Play method called correclty and without error (1)."
   ]
  },
  {
   "cell_type": "code",
   "execution_count": 6,
   "id": "d4098bed-1eb2-4084-8d5e-9fda07c3be43",
   "metadata": {},
   "outputs": [],
   "source": [
    "unfair_game = Game([fair_coin, unfair_coin, unfair_coin])\n",
    "\n",
    "unfair_game.play(1000)"
   ]
  },
  {
   "cell_type": "markdown",
   "id": "f690ebfc-fe71-4eb2-976d-7ac80ca6c23f",
   "metadata": {},
   "source": [
    "Task 4. For each game, use an Analyzer object to determine the raw frequency of jackpots — i.e. getting either all $H$s or all $T$s.\n",
    "\n",
    "- Analyzer objecs instantiated for both games (1).\n",
    "- Raw frequencies reported for both (1)."
   ]
  },
  {
   "cell_type": "code",
   "execution_count": 7,
   "id": "b26b8b7e-3be7-4476-a9a4-37d97536729e",
   "metadata": {},
   "outputs": [
    {
     "name": "stdout",
     "output_type": "stream",
     "text": [
      "Number of jackpots after 1000 tosses of two fair coins: 482\n",
      "Number of jackpots after 1000 tosses of one fair coin and two unfair coins: 362\n"
     ]
    }
   ],
   "source": [
    "fair_a = Analyzer(fair_game)\n",
    "unfair_a = Analyzer(unfair_game)\n",
    "\n",
    "print(f'Number of jackpots after 1000 tosses of two fair coins: {fair_a.jackpot()}')\n",
    "print(f'Number of jackpots after 1000 tosses of one fair coin and two unfair coins: {unfair_a.jackpot()}')"
   ]
  },
  {
   "cell_type": "markdown",
   "id": "b73d233c-445e-40cd-8858-0c5e1f097105",
   "metadata": {},
   "source": [
    "Task 5. For each analyzer, compute relative frequency as the number of jackpots over the total number of rolls.\n",
    "\n",
    "- Both relative frequencies computed (1)."
   ]
  },
  {
   "cell_type": "code",
   "execution_count": 8,
   "id": "9a96b31b-1b9d-496e-be3e-4bf83c45ec3a",
   "metadata": {},
   "outputs": [
    {
     "name": "stdout",
     "output_type": "stream",
     "text": [
      "Relative frequency of jackpots in fair game: 0.482\n",
      "Relative frequency of jackpots in unfair game: 0.362\n"
     ]
    }
   ],
   "source": [
    "print(f'Relative frequency of jackpots in fair game: {fair_a.jackpot() / 1000}')\n",
    "print(f'Relative frequency of jackpots in unfair game: {unfair_a.jackpot() / 1000}')"
   ]
  },
  {
   "cell_type": "markdown",
   "id": "a6e1e734-7f5c-4721-8ba4-2f3a424cf984",
   "metadata": {},
   "source": [
    "Task 6. Show your results, comparing the two relative frequencies, in a simple bar chart.\n",
    "\n",
    "- Bar chart plotted and correct (1)."
   ]
  },
  {
   "cell_type": "code",
   "execution_count": 9,
   "id": "473fa67c-aa53-4aa3-a0b7-e8772b3f6ed3",
   "metadata": {},
   "outputs": [
    {
     "data": {
      "image/png": "[encoded data removed]",
      "text/plain": [
       "<Figure size 640x480 with 1 Axes>"
      ]
     },
     "metadata": {},
     "output_type": "display_data"
    }
   ],
   "source": [
    "import matplotlib.pyplot as plt\n",
    "\n",
    "plt.bar(['Fair Game','Unfair Game'], [fair_a.jackpot()/1000, unfair_a.jackpot()/1000])\n",
    "plt.ylabel('Frequency')\n",
    "plt.title('Frequency of Jackpots in a Fair Game Versus an Unfair Game, 1000 Rolls')\n",
    "\n",
    "plt.show()"
   ]
  },
  {
   "cell_type": "markdown",
   "id": "725cfa5b-e4b7-47c9-86aa-8d9e1fe6c8c7",
   "metadata": {},
   "source": [
    "## Scenario 2: A 6-sided Die (9)\n",
    "\n",
    "Task 1. Create three dice, each with six sides having the faces 1 through 6.\n",
    "\n",
    "- Three die objects created (1)."
   ]
  },
  {
   "cell_type": "code",
   "execution_count": 10,
   "id": "6a8bc611-325a-4e05-88d5-980e0a2cf7c5",
   "metadata": {},
   "outputs": [],
   "source": [
    "die1 = Die(np.array([1,2,3,4,5,6]))\n",
    "die2 = Die(np.array([1,2,3,4,5,6]))\n",
    "die3 = Die(np.array([1,2,3,4,5,6]))"
   ]
  },
  {
   "cell_type": "markdown",
   "id": "2ed3ad26-fbe9-43bd-9ad7-f683a4191d12",
   "metadata": {},
   "source": [
    "Task 2. Convert one of the dice to an unfair one by weighting the face $6$ five times more than the other weights (i.e. it has weight of 5 and the others a weight of 1 each).\n",
    "\n",
    "- Unfair die created with proper call to weight change method (1)."
   ]
  },
  {
   "cell_type": "code",
   "execution_count": 11,
   "id": "e33dd18f-7f90-456d-a680-61c08a328e21",
   "metadata": {},
   "outputs": [
    {
     "data": {
      "text/html": [
       "<div>\n",
       "<style scoped>\n",
       "    .dataframe tbody tr th:only-of-type {\n",
       "        vertical-align: middle;\n",
       "    }\n",
       "\n",
       "    .dataframe tbody tr th {\n",
       "        vertical-align: top;\n",
       "    }\n",
       "\n",
       "    .dataframe thead th {\n",
       "        text-align: right;\n",
       "    }\n",
       "</style>\n",
       "<table border=\"1\" class=\"dataframe\">\n",
       "  <thead>\n",
       "    <tr style=\"text-align: right;\">\n",
       "      <th></th>\n",
       "      <th>weights</th>\n",
       "    </tr>\n",
       "    <tr>\n",
       "      <th>faces</th>\n",
       "      <th></th>\n",
       "    </tr>\n",
       "  </thead>\n",
       "  <tbody>\n",
       "    <tr>\n",
       "      <th>1</th>\n",
       "      <td>1.0</td>\n",
       "    </tr>\n",
       "    <tr>\n",
       "      <th>2</th>\n",
       "      <td>1.0</td>\n",
       "    </tr>\n",
       "    <tr>\n",
       "      <th>3</th>\n",
       "      <td>1.0</td>\n",
       "    </tr>\n",
       "    <tr>\n",
       "      <th>4</th>\n",
       "      <td>1.0</td>\n",
       "    </tr>\n",
       "    <tr>\n",
       "      <th>5</th>\n",
       "      <td>1.0</td>\n",
       "    </tr>\n",
       "    <tr>\n",
       "      <th>6</th>\n",
       "      <td>5.0</td>\n",
       "    </tr>\n",
       "  </tbody>\n",
       "</table>\n",
       "</div>"
      ],
      "text/plain": [
       "       weights\n",
       "faces         \n",
       "1          1.0\n",
       "2          1.0\n",
       "3          1.0\n",
       "4          1.0\n",
       "5          1.0\n",
       "6          5.0"
      ]
     },
     "execution_count": 11,
     "metadata": {},
     "output_type": "execute_result"
    }
   ],
   "source": [
    "die1.change_face_weight(6,5)\n",
    "die1.show_face_weights()"
   ]
  },
  {
   "cell_type": "markdown",
   "id": "7f6c062a-4c5b-45b9-96b8-76a0354c7e47",
   "metadata": {},
   "source": [
    "Task 3. Convert another of the dice to be unfair by weighting the face $1$ five times more than the others.\n",
    "\n",
    "- Unfair die created with proper call to weight change method (1)."
   ]
  },
  {
   "cell_type": "code",
   "execution_count": 12,
   "id": "01133a4e-6b06-4246-8d90-8e6d6995be51",
   "metadata": {},
   "outputs": [
    {
     "data": {
      "text/html": [
       "<div>\n",
       "<style scoped>\n",
       "    .dataframe tbody tr th:only-of-type {\n",
       "        vertical-align: middle;\n",
       "    }\n",
       "\n",
       "    .dataframe tbody tr th {\n",
       "        vertical-align: top;\n",
       "    }\n",
       "\n",
       "    .dataframe thead th {\n",
       "        text-align: right;\n",
       "    }\n",
       "</style>\n",
       "<table border=\"1\" class=\"dataframe\">\n",
       "  <thead>\n",
       "    <tr style=\"text-align: right;\">\n",
       "      <th></th>\n",
       "      <th>weights</th>\n",
       "    </tr>\n",
       "    <tr>\n",
       "      <th>faces</th>\n",
       "      <th></th>\n",
       "    </tr>\n",
       "  </thead>\n",
       "  <tbody>\n",
       "    <tr>\n",
       "      <th>1</th>\n",
       "      <td>5.0</td>\n",
       "    </tr>\n",
       "    <tr>\n",
       "      <th>2</th>\n",
       "      <td>1.0</td>\n",
       "    </tr>\n",
       "    <tr>\n",
       "      <th>3</th>\n",
       "      <td>1.0</td>\n",
       "    </tr>\n",
       "    <tr>\n",
       "      <th>4</th>\n",
       "      <td>1.0</td>\n",
       "    </tr>\n",
       "    <tr>\n",
       "      <th>5</th>\n",
       "      <td>1.0</td>\n",
       "    </tr>\n",
       "    <tr>\n",
       "      <th>6</th>\n",
       "      <td>1.0</td>\n",
       "    </tr>\n",
       "  </tbody>\n",
       "</table>\n",
       "</div>"
      ],
      "text/plain": [
       "       weights\n",
       "faces         \n",
       "1          5.0\n",
       "2          1.0\n",
       "3          1.0\n",
       "4          1.0\n",
       "5          1.0\n",
       "6          1.0"
      ]
     },
     "execution_count": 12,
     "metadata": {},
     "output_type": "execute_result"
    }
   ],
   "source": [
    "die2.change_face_weight(1,5)\n",
    "die2.show_face_weights()"
   ]
  },
  {
   "cell_type": "markdown",
   "id": "f0ed31cb-0a3c-4eb2-b85e-6ed6b2eb6e58",
   "metadata": {},
   "source": [
    "Task 4. Play a game of $10000$ rolls with $5$ fair dice.\n",
    "\n",
    "- Game class properly instantiated (1). \n",
    "- Play method called properly (1)."
   ]
  },
  {
   "cell_type": "code",
   "execution_count": 13,
   "id": "e92395a4-9ed8-4cb0-8c85-38768a784ffc",
   "metadata": {},
   "outputs": [
    {
     "data": {
      "text/html": [
       "<div>\n",
       "<style scoped>\n",
       "    .dataframe tbody tr th:only-of-type {\n",
       "        vertical-align: middle;\n",
       "    }\n",
       "\n",
       "    .dataframe tbody tr th {\n",
       "        vertical-align: top;\n",
       "    }\n",
       "\n",
       "    .dataframe thead th {\n",
       "        text-align: right;\n",
       "    }\n",
       "</style>\n",
       "<table border=\"1\" class=\"dataframe\">\n",
       "  <thead>\n",
       "    <tr style=\"text-align: right;\">\n",
       "      <th></th>\n",
       "      <th>0</th>\n",
       "      <th>1</th>\n",
       "      <th>2</th>\n",
       "      <th>3</th>\n",
       "      <th>4</th>\n",
       "    </tr>\n",
       "  </thead>\n",
       "  <tbody>\n",
       "    <tr>\n",
       "      <th>1</th>\n",
       "      <td>3</td>\n",
       "      <td>3</td>\n",
       "      <td>6</td>\n",
       "      <td>5</td>\n",
       "      <td>5</td>\n",
       "    </tr>\n",
       "    <tr>\n",
       "      <th>2</th>\n",
       "      <td>3</td>\n",
       "      <td>5</td>\n",
       "      <td>3</td>\n",
       "      <td>1</td>\n",
       "      <td>1</td>\n",
       "    </tr>\n",
       "    <tr>\n",
       "      <th>3</th>\n",
       "      <td>4</td>\n",
       "      <td>3</td>\n",
       "      <td>6</td>\n",
       "      <td>1</td>\n",
       "      <td>3</td>\n",
       "    </tr>\n",
       "    <tr>\n",
       "      <th>4</th>\n",
       "      <td>2</td>\n",
       "      <td>1</td>\n",
       "      <td>5</td>\n",
       "      <td>5</td>\n",
       "      <td>4</td>\n",
       "    </tr>\n",
       "    <tr>\n",
       "      <th>5</th>\n",
       "      <td>5</td>\n",
       "      <td>1</td>\n",
       "      <td>2</td>\n",
       "      <td>5</td>\n",
       "      <td>1</td>\n",
       "    </tr>\n",
       "  </tbody>\n",
       "</table>\n",
       "</div>"
      ],
      "text/plain": [
       "   0  1  2  3  4\n",
       "1  3  3  6  5  5\n",
       "2  3  5  3  1  1\n",
       "3  4  3  6  1  3\n",
       "4  2  1  5  5  4\n",
       "5  5  1  2  5  1"
      ]
     },
     "execution_count": 13,
     "metadata": {},
     "output_type": "execute_result"
    }
   ],
   "source": [
    "fair_game = Game([die3,die3,die3,die3,die3])\n",
    "\n",
    "fair_game.play(10000)\n",
    "\n",
    "fair_game.show_result().head()"
   ]
  },
  {
   "cell_type": "markdown",
   "id": "7814b402-46a4-40e5-8141-20e05c3e646b",
   "metadata": {},
   "source": [
    "Task 5. Play another game of $10000$ rolls, this time with $2$ unfair dice, one as defined in steps #2 and #3 respectively, and $3$ fair dice.\n",
    "\n",
    "- Game class properly instantiated (1). \n",
    "- Play method called properly (1)."
   ]
  },
  {
   "cell_type": "code",
   "execution_count": 14,
   "id": "7cd58fba-b2a5-4d5d-bc6d-2a7a68d18c4f",
   "metadata": {},
   "outputs": [
    {
     "data": {
      "text/html": [
       "<div>\n",
       "<style scoped>\n",
       "    .dataframe tbody tr th:only-of-type {\n",
       "        vertical-align: middle;\n",
       "    }\n",
       "\n",
       "    .dataframe tbody tr th {\n",
       "        vertical-align: top;\n",
       "    }\n",
       "\n",
       "    .dataframe thead th {\n",
       "        text-align: right;\n",
       "    }\n",
       "</style>\n",
       "<table border=\"1\" class=\"dataframe\">\n",
       "  <thead>\n",
       "    <tr style=\"text-align: right;\">\n",
       "      <th></th>\n",
       "      <th>0</th>\n",
       "      <th>1</th>\n",
       "      <th>2</th>\n",
       "      <th>3</th>\n",
       "      <th>4</th>\n",
       "    </tr>\n",
       "  </thead>\n",
       "  <tbody>\n",
       "    <tr>\n",
       "      <th>1</th>\n",
       "      <td>3</td>\n",
       "      <td>1</td>\n",
       "      <td>1</td>\n",
       "      <td>6</td>\n",
       "      <td>5</td>\n",
       "    </tr>\n",
       "    <tr>\n",
       "      <th>2</th>\n",
       "      <td>4</td>\n",
       "      <td>1</td>\n",
       "      <td>6</td>\n",
       "      <td>1</td>\n",
       "      <td>2</td>\n",
       "    </tr>\n",
       "    <tr>\n",
       "      <th>3</th>\n",
       "      <td>6</td>\n",
       "      <td>4</td>\n",
       "      <td>3</td>\n",
       "      <td>4</td>\n",
       "      <td>1</td>\n",
       "    </tr>\n",
       "    <tr>\n",
       "      <th>4</th>\n",
       "      <td>4</td>\n",
       "      <td>1</td>\n",
       "      <td>6</td>\n",
       "      <td>2</td>\n",
       "      <td>4</td>\n",
       "    </tr>\n",
       "    <tr>\n",
       "      <th>5</th>\n",
       "      <td>5</td>\n",
       "      <td>4</td>\n",
       "      <td>5</td>\n",
       "      <td>2</td>\n",
       "      <td>5</td>\n",
       "    </tr>\n",
       "  </tbody>\n",
       "</table>\n",
       "</div>"
      ],
      "text/plain": [
       "   0  1  2  3  4\n",
       "1  3  1  1  6  5\n",
       "2  4  1  6  1  2\n",
       "3  6  4  3  4  1\n",
       "4  4  1  6  2  4\n",
       "5  5  4  5  2  5"
      ]
     },
     "execution_count": 14,
     "metadata": {},
     "output_type": "execute_result"
    }
   ],
   "source": [
    "unfair_game = Game([die1,die2,die3,die3,die3])\n",
    "\n",
    "unfair_game.play(10000)\n",
    "\n",
    "unfair_game.show_result().head()"
   ]
  },
  {
   "cell_type": "markdown",
   "id": "7b6cd372-2bb8-4df8-ade1-8f48bc300955",
   "metadata": {},
   "source": [
    "Task 6. For each game, use an Analyzer object to determine the relative frequency of jackpots and show your results, comparing the two relative frequencies, in a simple bar chart.\n",
    "\n",
    "- Jackpot methods called (1).\n",
    "- Graph produced (1)."
   ]
  },
  {
   "cell_type": "code",
   "execution_count": 15,
   "id": "bbdcf695-8937-406e-9b53-aa0b9ee3c59a",
   "metadata": {},
   "outputs": [
    {
     "data": {
      "image/png": "[encoded data removed]",
      "text/plain": [
       "<Figure size 640x480 with 1 Axes>"
      ]
     },
     "metadata": {},
     "output_type": "display_data"
    }
   ],
   "source": [
    "fair_a1 = Analyzer(fair_game)\n",
    "unfair_a1 = Analyzer(unfair_game)\n",
    "\n",
    "plt.bar(['Fair Game','Unfair Game'], [fair_a1.jackpot()/1000, unfair_a1.jackpot()/1000])\n",
    "plt.ylabel('Frequency')\n",
    "plt.title('Frequency of Jackpots in a Fair Game Versus an Unfair Game, 1000 Rolls')\n",
    "\n",
    "plt.show()"
   ]
  },
  {
   "cell_type": "markdown",
   "id": "9f04e9be-8fcf-4ea4-a391-6614608285f8",
   "metadata": {},
   "source": [
    "## Scenario 3: Letters of the Alphabet (7)\n",
    "\n",
    "Task 1. Create a \"die\" of letters from $A$ to $Z$ with weights based on their frequency of usage as found in the data file `english_letters.txt`. Use the frequencies (i.e. raw counts) as weights.\n",
    "\n",
    "- Die correctly instantiated with source file data (1).\n",
    "- Weights properly applied using weight setting method (1)."
   ]
  },
  {
   "cell_type": "code",
   "execution_count": 16,
   "id": "b0ceb771-3cdf-4d8f-8c2c-020806bbb909",
   "metadata": {},
   "outputs": [
    {
     "data": {
      "text/html": [
       "<div>\n",
       "<style scoped>\n",
       "    .dataframe tbody tr th:only-of-type {\n",
       "        vertical-align: middle;\n",
       "    }\n",
       "\n",
       "    .dataframe tbody tr th {\n",
       "        vertical-align: top;\n",
       "    }\n",
       "\n",
       "    .dataframe thead th {\n",
       "        text-align: right;\n",
       "    }\n",
       "</style>\n",
       "<table border=\"1\" class=\"dataframe\">\n",
       "  <thead>\n",
       "    <tr style=\"text-align: right;\">\n",
       "      <th></th>\n",
       "      <th>weights</th>\n",
       "    </tr>\n",
       "    <tr>\n",
       "      <th>faces</th>\n",
       "      <th></th>\n",
       "    </tr>\n",
       "  </thead>\n",
       "  <tbody>\n",
       "    <tr>\n",
       "      <th>E</th>\n",
       "      <td>529117365.0</td>\n",
       "    </tr>\n",
       "    <tr>\n",
       "      <th>T</th>\n",
       "      <td>390965105.0</td>\n",
       "    </tr>\n",
       "    <tr>\n",
       "      <th>A</th>\n",
       "      <td>374061888.0</td>\n",
       "    </tr>\n",
       "    <tr>\n",
       "      <th>O</th>\n",
       "      <td>326627740.0</td>\n",
       "    </tr>\n",
       "    <tr>\n",
       "      <th>I</th>\n",
       "      <td>320410057.0</td>\n",
       "    </tr>\n",
       "    <tr>\n",
       "      <th>N</th>\n",
       "      <td>313720540.0</td>\n",
       "    </tr>\n",
       "    <tr>\n",
       "      <th>S</th>\n",
       "      <td>294300210.0</td>\n",
       "    </tr>\n",
       "    <tr>\n",
       "      <th>R</th>\n",
       "      <td>277000841.0</td>\n",
       "    </tr>\n",
       "    <tr>\n",
       "      <th>H</th>\n",
       "      <td>216768975.0</td>\n",
       "    </tr>\n",
       "    <tr>\n",
       "      <th>L</th>\n",
       "      <td>183996130.0</td>\n",
       "    </tr>\n",
       "    <tr>\n",
       "      <th>D</th>\n",
       "      <td>169330528.0</td>\n",
       "    </tr>\n",
       "    <tr>\n",
       "      <th>C</th>\n",
       "      <td>138416451.0</td>\n",
       "    </tr>\n",
       "    <tr>\n",
       "      <th>U</th>\n",
       "      <td>117295780.0</td>\n",
       "    </tr>\n",
       "    <tr>\n",
       "      <th>M</th>\n",
       "      <td>110504544.0</td>\n",
       "    </tr>\n",
       "    <tr>\n",
       "      <th>F</th>\n",
       "      <td>95422055.0</td>\n",
       "    </tr>\n",
       "    <tr>\n",
       "      <th>G</th>\n",
       "      <td>91258980.0</td>\n",
       "    </tr>\n",
       "    <tr>\n",
       "      <th>P</th>\n",
       "      <td>90376747.0</td>\n",
       "    </tr>\n",
       "    <tr>\n",
       "      <th>W</th>\n",
       "      <td>79843664.0</td>\n",
       "    </tr>\n",
       "    <tr>\n",
       "      <th>Y</th>\n",
       "      <td>75294515.0</td>\n",
       "    </tr>\n",
       "    <tr>\n",
       "      <th>B</th>\n",
       "      <td>70195826.0</td>\n",
       "    </tr>\n",
       "    <tr>\n",
       "      <th>V</th>\n",
       "      <td>46337161.0</td>\n",
       "    </tr>\n",
       "    <tr>\n",
       "      <th>K</th>\n",
       "      <td>35373464.0</td>\n",
       "    </tr>\n",
       "    <tr>\n",
       "      <th>J</th>\n",
       "      <td>9613410.0</td>\n",
       "    </tr>\n",
       "    <tr>\n",
       "      <th>X</th>\n",
       "      <td>8369915.0</td>\n",
       "    </tr>\n",
       "    <tr>\n",
       "      <th>Z</th>\n",
       "      <td>4975847.0</td>\n",
       "    </tr>\n",
       "    <tr>\n",
       "      <th>Q</th>\n",
       "      <td>4550166.0</td>\n",
       "    </tr>\n",
       "  </tbody>\n",
       "</table>\n",
       "</div>"
      ],
      "text/plain": [
       "           weights\n",
       "faces             \n",
       "E      529117365.0\n",
       "T      390965105.0\n",
       "A      374061888.0\n",
       "O      326627740.0\n",
       "I      320410057.0\n",
       "N      313720540.0\n",
       "S      294300210.0\n",
       "R      277000841.0\n",
       "H      216768975.0\n",
       "L      183996130.0\n",
       "D      169330528.0\n",
       "C      138416451.0\n",
       "U      117295780.0\n",
       "M      110504544.0\n",
       "F       95422055.0\n",
       "G       91258980.0\n",
       "P       90376747.0\n",
       "W       79843664.0\n",
       "Y       75294515.0\n",
       "B       70195826.0\n",
       "V       46337161.0\n",
       "K       35373464.0\n",
       "J        9613410.0\n",
       "X        8369915.0\n",
       "Z        4975847.0\n",
       "Q        4550166.0"
      ]
     },
     "execution_count": 16,
     "metadata": {},
     "output_type": "execute_result"
    }
   ],
   "source": [
    "letters = {}\n",
    "\n",
    "with open('english_letters.txt', 'r') as file:\n",
    "    for line in file:\n",
    "        letter, number = line.split()\n",
    "        letters[letter] = int(number)\n",
    "\n",
    "letter_die = Die(np.array(list(letters.keys())))\n",
    "\n",
    "for letter, freq in letters.items():\n",
    "    letter_die.change_face_weight(letter,freq)\n",
    "\n",
    "letter_die.show_face_weights()\n"
   ]
  },
  {
   "cell_type": "markdown",
   "id": "88e2e14a-6223-470a-a2c8-bca1120d7a5b",
   "metadata": {},
   "source": [
    "Task 2. Play a game involving $4$ of these dice with $1000$ rolls.\n",
    "\n",
    "- Game play method properly called (1)."
   ]
  },
  {
   "cell_type": "code",
   "execution_count": 17,
   "id": "2ae087cc-936d-4f1e-bddb-a7c179d139e0",
   "metadata": {},
   "outputs": [
    {
     "data": {
      "text/html": [
       "<div>\n",
       "<style scoped>\n",
       "    .dataframe tbody tr th:only-of-type {\n",
       "        vertical-align: middle;\n",
       "    }\n",
       "\n",
       "    .dataframe tbody tr th {\n",
       "        vertical-align: top;\n",
       "    }\n",
       "\n",
       "    .dataframe thead th {\n",
       "        text-align: right;\n",
       "    }\n",
       "</style>\n",
       "<table border=\"1\" class=\"dataframe\">\n",
       "  <thead>\n",
       "    <tr style=\"text-align: right;\">\n",
       "      <th></th>\n",
       "      <th>0</th>\n",
       "      <th>1</th>\n",
       "      <th>2</th>\n",
       "      <th>3</th>\n",
       "    </tr>\n",
       "  </thead>\n",
       "  <tbody>\n",
       "    <tr>\n",
       "      <th>1</th>\n",
       "      <td>N</td>\n",
       "      <td>I</td>\n",
       "      <td>T</td>\n",
       "      <td>H</td>\n",
       "    </tr>\n",
       "    <tr>\n",
       "      <th>2</th>\n",
       "      <td>V</td>\n",
       "      <td>U</td>\n",
       "      <td>A</td>\n",
       "      <td>M</td>\n",
       "    </tr>\n",
       "    <tr>\n",
       "      <th>3</th>\n",
       "      <td>O</td>\n",
       "      <td>E</td>\n",
       "      <td>R</td>\n",
       "      <td>U</td>\n",
       "    </tr>\n",
       "    <tr>\n",
       "      <th>4</th>\n",
       "      <td>B</td>\n",
       "      <td>O</td>\n",
       "      <td>V</td>\n",
       "      <td>N</td>\n",
       "    </tr>\n",
       "    <tr>\n",
       "      <th>5</th>\n",
       "      <td>O</td>\n",
       "      <td>U</td>\n",
       "      <td>S</td>\n",
       "      <td>I</td>\n",
       "    </tr>\n",
       "  </tbody>\n",
       "</table>\n",
       "</div>"
      ],
      "text/plain": [
       "   0  1  2  3\n",
       "1  N  I  T  H\n",
       "2  V  U  A  M\n",
       "3  O  E  R  U\n",
       "4  B  O  V  N\n",
       "5  O  U  S  I"
      ]
     },
     "execution_count": 17,
     "metadata": {},
     "output_type": "execute_result"
    }
   ],
   "source": [
    "word_game = Game([letter_die,letter_die,letter_die,letter_die])\n",
    "\n",
    "word_game.play(1000)\n",
    "word_game.show_result().head()"
   ]
  },
  {
   "cell_type": "markdown",
   "id": "3b9ff800-bf1f-4f66-9d7f-ff57a648e9f0",
   "metadata": {},
   "source": [
    "Task 3. Determine how many permutations in your results are actual English words, based on the vocabulary found in `scrabble_words.txt`.\n",
    "\n",
    "- Use permutation method (1).\n",
    "- Get count as difference between permutations and vocabulary (1)."
   ]
  },
  {
   "cell_type": "code",
   "execution_count": 64,
   "id": "ed1c7fa0-cfa3-4cf4-9fd0-9f84b86b0f64",
   "metadata": {},
   "outputs": [
    {
     "name": "stdout",
     "output_type": "stream",
     "text": [
      "46\n"
     ]
    }
   ],
   "source": [
    "words = []\n",
    "\n",
    "with open('scrabble_words.txt','r') as file:\n",
    "    for line in file:\n",
    "        words.append(line.split('\\n')[0])\n",
    "\n",
    "words_series = pd.Series(words)\n",
    "\n",
    "word_a1 = Analyzer(word_game)\n",
    "\n",
    "perms = word_a1.permutation_count().index.to_flat_index().to_series().reset_index(drop = True).apply(''.join)\n",
    "\n",
    "print(sum(perms.isin(words_series)))"
   ]
  },
  {
   "cell_type": "markdown",
   "id": "fcf068cf-381a-4b3e-ac3a-0510eb4dbdb0",
   "metadata": {},
   "source": [
    "Task 4. Repeat steps #2 and #3, this time with $5$ dice. How many actual words does this produce? Which produces more?\n",
    "\n",
    "- Successfully repreats steps (1).\n",
    "- Identifies parameter with most found words (1)."
   ]
  },
  {
   "cell_type": "code",
   "execution_count": null,
   "id": "6b551382",
   "metadata": {},
   "outputs": [
    {
     "name": "stdout",
     "output_type": "stream",
     "text": [
      "7\n",
      "185    MISER\n",
      "559    DONAH\n",
      "644    ANCON\n",
      "706    CLOSE\n",
      "778    IMINO\n",
      "875    HOAST\n",
      "945    HAVES\n",
      "dtype: object\n"
     ]
    }
   ],
   "source": [
    "word_game2 = Game([letter_die,letter_die,letter_die,letter_die,letter_die])\n",
    "\n",
    "word_game2.play(1000)\n",
    "word_game2.show_result().head()\n",
    "\n",
    "word_a2 = Analyzer(word_game2)\n",
    "\n",
    "perms2 = word_a2.permutation_count().index.to_flat_index().to_series().reset_index(drop = True).apply(''.join)\n",
    "\n",
    "print(sum(perms2.isin(words_series)))\n",
    "\n",
    "print(perms2[perms2.isin(words_series)])\n",
    "\n"
   ]
  },
  {
   "cell_type": "markdown",
   "id": "0212fb9a",
   "metadata": {},
   "source": [
    "The game with 4 dice made 46 real words, while the game with 5 dice created just 7 real words. The four dice game produced more words."
   ]
  }
 ],
 "metadata": {
  "kernelspec": {
   "display_name": "base",
   "language": "python",
   "name": "python3"
  },
  "language_info": {
   "codemirror_mode": {
    "name": "ipython",
    "version": 3
   },
   "file_extension": ".py",
   "mimetype": "text/x-python",
   "name": "python",
   "nbconvert_exporter": "python",
   "pygments_lexer": "ipython3",
   "version": "3.12.4"
  },
  "toc-autonumbering": true,
  "widgets": {
   "application/vnd.jupyter.widget-state+json": {
    "state": {},
    "version_major": 2,
    "version_minor": 0
   }
  }
 },
 "nbformat": 4,
 "nbformat_minor": 5
}
